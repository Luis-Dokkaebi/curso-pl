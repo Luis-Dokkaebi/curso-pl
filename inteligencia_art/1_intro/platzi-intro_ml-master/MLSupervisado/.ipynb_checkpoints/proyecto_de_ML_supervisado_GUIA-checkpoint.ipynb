{
 "cells": [
  {
   "cell_type": "markdown",
   "metadata": {},
   "source": [
    "# Proyecto de Machine learning supervisado \n",
    "\n",
    "## clasificando digitos escritos a mano\n"
   ]
  },
  {
   "cell_type": "markdown",
   "metadata": {},
   "source": [
    "El grupo de datos se los obtiene de http://yann.lecun.com/exdb/mnist/\n",
    "\n",
    "MNIST - Modified National Institute of standards and technology\n",
    "\n",
    "The MNIST database of handwritten digits, available from this page, has a training set of 60,000 examples, and a test set of 10,000 examples larger set available from NIST.  The digits have been size-normalized and centered in a fixed-size image.\n",
    "\n",
    "\ttrain-images-idx3-ubyte.gz: training set images\n",
    "\ttrain-labels-idx1-ubyte.gz: training set labels\n",
    "\tt10k-images-idx3-ubyte.gz: test set images\n",
    "\tt10k-labels-idx1-ubyte.gz: test set labels\n",
    "los datos en formato .gz descomprimidos dentro de un folder MNIST_data\n",
    "\n",
    "**$ gzip *ubyte.gz -d**\n",
    "\n",
    "En nuestra consola de trabajo instalamos el paquete  mnist que viene con python\n",
    "\n",
    "**$pip install python-mnist**\n",
    "\n",
    "Una reserva de este info podemos encontrar estos set de datos en formato .csv en kaggle: https://www.kaggle.com/c/digit-recognizer/data"
   ]
  },
  {
   "cell_type": "code",
   "execution_count": 1,
   "metadata": {},
   "outputs": [],
   "source": [
    "#DATOS\n",
    "\n",
    "#importar del python-mnist\n",
    "\n",
    "\n",
    "\n",
    "#importar el dataset"
   ]
  },
  {
   "cell_type": "code",
   "execution_count": null,
   "metadata": {},
   "outputs": [],
   "source": [
    "# DATOS de entrenamiento (features -> images y labels -> labels\n",
    "\n",
    "# TAREA\n",
    "\n",
    "#dato<-\n",
    "\n",
    "#etiquetas <-\n"
   ]
  },
  {
   "cell_type": "code",
   "execution_count": null,
   "metadata": {},
   "outputs": [],
   "source": [
    "#VISUALIZACION\n",
    "\n",
    "#librerias"
   ]
  },
  {
   "cell_type": "code",
   "execution_count": null,
   "metadata": {},
   "outputs": [],
   "source": [
    "# trabajo con ARRAYS\n",
    "\n",
    "#NUNPY"
   ]
  },
  {
   "cell_type": "code",
   "execution_count": null,
   "metadata": {},
   "outputs": [],
   "source": [
    "# matplotlib escala de grises"
   ]
  },
  {
   "cell_type": "code",
   "execution_count": null,
   "metadata": {},
   "outputs": [],
   "source": [
    "#train-images-idx3-ubyte.gz: training set images\n",
    "#train-labels-idx1-ubyte.gz: training set labels\n",
    "\n",
    "#t10k-images-idx3-ubyte.gz: test set images\n",
    "#t10k-labels-idx1-ubyte.gz: test set labels"
   ]
  },
  {
   "cell_type": "code",
   "execution_count": null,
   "metadata": {},
   "outputs": [],
   "source": [
    "#SKLEARN\n",
    "#que es como se usa\n",
    "\n",
    "#https://scikit-learn.org/stable/modules/generated/sklearn.model_selection.train_test_split.html"
   ]
  },
  {
   "cell_type": "code",
   "execution_count": null,
   "metadata": {},
   "outputs": [],
   "source": [
    "#DATOS\n",
    "#todos los datos de training... deben ser divididos\n",
    "#datos de entrenamiento 70%\n",
    "#datos de testing 30%\n",
    "\n",
    "#tarea\n",
    "#train_data train_labels\n",
    "#test_data test_labels"
   ]
  }
 ],
 "metadata": {
  "kernelspec": {
   "display_name": "Python 3",
   "language": "python",
   "name": "python3"
  },
  "language_info": {
   "codemirror_mode": {
    "name": "ipython",
    "version": 3
   },
   "file_extension": ".py",
   "mimetype": "text/x-python",
   "name": "python",
   "nbconvert_exporter": "python",
   "pygments_lexer": "ipython3",
   "version": "3.7.3"
  },
  "widgets": {
   "application/vnd.jupyter.widget-state+json": {
    "state": {},
    "version_major": 2,
    "version_minor": 0
   }
  }
 },
 "nbformat": 4,
 "nbformat_minor": 2
}
